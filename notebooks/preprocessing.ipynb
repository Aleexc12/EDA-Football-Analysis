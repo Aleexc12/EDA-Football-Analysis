{
 "cells": [
  {
   "cell_type": "markdown",
   "metadata": {},
   "source": [
    "The dataset we will be working with compiles detailed information on international football matches from 1872 to 2024, covering over 47,000 matches between national teams. It includes details such as participating teams, dates, locations, tournaments, and results, allowing for an analysis of the evolution of international football over more than a century.\n",
    "\n",
    "The dataset is divided into four CSV files:\n",
    "\n",
    "results.csv: Record of matches including date, teams, score, and location.\n",
    "shootouts.csv: Information on penalty shootouts in decisive matches.\n",
    "former_names.csv: History of country names that have changed over time.\n",
    "scorers.csv: List of players who have scored goals in each match.\n",
    "This database provides a wide range of information, enabling the study of trends in national team performance, changes in game dynamics, and the influence of tournaments over the years.\n",
    "\n",
    "The data comes from historical records and has been organized on Kaggle to facilitate analysis.\n",
    "\n",
    "Kaggle link:\n",
    "https://www.kaggle.com/datasets/martj42/international-football-results-from-1872-to-2017/data"
   ]
  },
  {
   "cell_type": "code",
   "execution_count": 3,
   "metadata": {},
   "outputs": [],
   "source": [
    "import pandas as pd\n",
    "import os"
   ]
  },
  {
   "cell_type": "markdown",
   "metadata": {},
   "source": [
    "Load csvs into dataframes dictionary"
   ]
  },
  {
   "cell_type": "code",
   "execution_count": 4,
   "metadata": {},
   "outputs": [],
   "source": [
    "file_paths = {\n",
    "    \"former_names\": \"../csvs/former_names.csv\",\n",
    "    \"goalscorers\": \"../csvs/goalscorers.csv\",\n",
    "    \"results\": \"../csvs/results.csv\",\n",
    "    \"shootouts\": \"../csvs/shootouts.csv\"\n",
    "}\n",
    "\n",
    "dataframes = {name: pd.read_csv(path) for name, path in file_paths.items()}"
   ]
  },
  {
   "cell_type": "markdown",
   "metadata": {
    "jp-MarkdownHeadingCollapsed": true
   },
   "source": [
    "## Aux Functions"
   ]
  },
  {
   "cell_type": "code",
   "execution_count": 5,
   "metadata": {},
   "outputs": [],
   "source": [
    "def check_former_names(dataframes, dataset_name):\n",
    "\n",
    "    df = dataframes[dataset_name]\n",
    "    former_names_list = set(dataframes[\"former_names\"][\"former\"])\n",
    "\n",
    "    # Identify columns where former names might appear\n",
    "    columns_to_check = [col for col in df.columns if col in [\"home_team\", \"away_team\", \"country\"]]\n",
    "    \n",
    "    # Store the found names in each column along with their counts\n",
    "    former_names_found = {}\n",
    "\n",
    "    for col in columns_to_check:\n",
    "        found_names = df[col][df[col].isin(former_names_list)].value_counts()\n",
    "        if not found_names.empty:\n",
    "            former_names_found[col] = found_names.to_dict()\n",
    "\n",
    "    if not former_names_found:\n",
    "        print(f\"No former names found in {dataset_name}.\")\n",
    "        return None\n",
    "\n",
    "    return former_names_found\n",
    "\n",
    "\n",
    "def replace_former_names(dataframes, dataframe_name):\n",
    "\n",
    "    # Exclude Soviet Union and CIS from mapping\n",
    "    excluded_countries = {\"Soviet Union\", \"CIS\"}\n",
    "    mapping = {row[\"former\"]: row[\"current\"] for _, row in dataframes[\"former_names\"].iterrows() if row[\"former\"] not in excluded_countries}\n",
    "\n",
    "    # Replace in home_team, away_team, and country columns if they exist\n",
    "    df = dataframes[dataframe_name]\n",
    "    for col in [\"home_team\", \"away_team\", \"country\"]:\n",
    "        if col in df.columns:\n",
    "            df[col] = df[col].replace(mapping)\n",
    "\n",
    "    return df"
   ]
  },
  {
   "cell_type": "markdown",
   "metadata": {},
   "source": [
    "## Csv Cleaning"
   ]
  },
  {
   "cell_type": "markdown",
   "metadata": {},
   "source": [
    "#### Former_names.csv"
   ]
  },
  {
   "cell_type": "markdown",
   "metadata": {},
   "source": [
    "I will delete this CSV later because I believe it does not contribute much to the study objective of my dataset. Additionally, it may cause some confusion since there are countries like the USSR or the CIS that were later renamed as Russia. This is somewhat confusing as they were also formed by other countries.\n",
    "\n",
    "However, to avoid losing the information completely and to provide greater consistency to the data, I will map the former names to the current names in the other CSVs, excluding cases categorized as 'confusing'."
   ]
  },
  {
   "cell_type": "code",
   "execution_count": 6,
   "metadata": {},
   "outputs": [
    {
     "name": "stdout",
     "output_type": "stream",
     "text": [
      "\n",
      "Former names found in results.csv:\n",
      "  - In column 'home_team':\n",
      "    Burma: 4 occurrences\n",
      "    Malaya: 1 occurrences\n",
      "  - In column 'away_team':\n",
      "    Burma: 3 occurrences\n",
      "    Malaya: 1 occurrences\n",
      "  - In column 'country':\n",
      "    Soviet Union: 167 occurrences\n",
      "    Swaziland: 110 occurrences\n",
      "    Malaya: 95 occurrences\n",
      "    Dutch Guyana: 81 occurrences\n",
      "    Zaïre: 59 occurrences\n",
      "    Ireland: 53 occurrences\n",
      "    Burma: 36 occurrences\n",
      "    British Guiana: 29 occurrences\n",
      "    Western Samoa: 27 occurrences\n",
      "    Tanganyika: 24 occurrences\n",
      "    Upper Volta: 22 occurrences\n",
      "    Southern Rhodesia: 17 occurrences\n",
      "    Éire: 17 occurrences\n",
      "    Dahomey: 16 occurrences\n",
      "    Congo-Kinshasa: 16 occurrences\n",
      "    Northern Rhodesia: 12 occurrences\n",
      "    Irish Free State: 9 occurrences\n",
      "    Ceylon: 8 occurrences\n",
      "    Gold Coast: 6 occurrences\n",
      "    Nyasaland: 4 occurrences\n",
      "    French Somaliland: 4 occurrences\n",
      "    New Hebrides: 3 occurrences\n",
      "    Mandatory Palestine: 3 occurrences\n",
      "    Bohemia: 3 occurrences\n",
      "    Belgian Congo: 3 occurrences\n",
      "    Bohemia and Moravia: 2 occurrences\n",
      "    Portuguese Guinea: 2 occurrences\n",
      "No former names found in goalscorers.\n",
      "\n",
      "Former names found in goalscorers.csv:\n",
      "  No former names found.\n",
      "No former names found in shootouts.\n",
      "\n",
      "Former names found in shootouts.csv:\n",
      "  No former names found.\n"
     ]
    }
   ],
   "source": [
    "# List of datasets to check\n",
    "datasets_to_check = [\"results\", \"goalscorers\", \"shootouts\"]\n",
    "\n",
    "# Iterate over each dataset and apply the function\n",
    "for dataset in datasets_to_check:\n",
    "    former_names_found = check_former_names(dataframes, dataset)\n",
    "    print(f\"\\nFormer names found in {dataset}.csv:\")\n",
    "    if former_names_found:\n",
    "        for column, names in former_names_found.items():\n",
    "            print(f\"  - In column '{column}':\")\n",
    "            for name, count in names.items():\n",
    "                print(f\"    {name}: {count} occurrences\")\n",
    "    else:\n",
    "        print(\"  No former names found.\")"
   ]
  },
  {
   "cell_type": "markdown",
   "metadata": {},
   "source": [
    "We see that former names only appear in results.csv, so we will apply the mapping only to this CSV"
   ]
  },
  {
   "cell_type": "code",
   "execution_count": 8,
   "metadata": {},
   "outputs": [],
   "source": [
    "dataframes[\"results\"] = replace_former_names(dataframes, \"results\") "
   ]
  },
  {
   "cell_type": "markdown",
   "metadata": {},
   "source": [
    "Check if mapping was succesfull"
   ]
  },
  {
   "cell_type": "code",
   "execution_count": 9,
   "metadata": {},
   "outputs": [
    {
     "name": "stdout",
     "output_type": "stream",
     "text": [
      "\n",
      "Former names found in results.csv:\n",
      "  - In column 'country':\n",
      "    Soviet Union: 167 occurrences\n",
      "No former names found in goalscorers.\n",
      "\n",
      "Former names found in goalscorers.csv:\n",
      "  No former names found.\n",
      "No former names found in shootouts.\n",
      "\n",
      "Former names found in shootouts.csv:\n",
      "  No former names found.\n"
     ]
    }
   ],
   "source": [
    "# List of datasets to check\n",
    "datasets_to_check = [\"results\", \"goalscorers\", \"shootouts\"]\n",
    "\n",
    "# Iterate over each dataset and apply the function\n",
    "for dataset in datasets_to_check:\n",
    "    former_names_found = check_former_names(dataframes, dataset)\n",
    "    print(f\"\\nFormer names found in {dataset}.csv:\")\n",
    "    if former_names_found:\n",
    "        for column, names in former_names_found.items():\n",
    "            print(f\"  - In column '{column}':\")\n",
    "            for name, count in names.items():\n",
    "                print(f\"    {name}: {count} occurrences\")\n",
    "    else:\n",
    "        print(\"  No former names found.\")"
   ]
  },
  {
   "cell_type": "markdown",
   "metadata": {},
   "source": [
    "#### Results.csv"
   ]
  },
  {
   "cell_type": "code",
   "execution_count": 10,
   "metadata": {},
   "outputs": [
    {
     "name": "stdout",
     "output_type": "stream",
     "text": [
      "<class 'pandas.core.frame.DataFrame'>\n",
      "RangeIndex: 47980 entries, 0 to 47979\n",
      "Data columns (total 9 columns):\n",
      " #   Column      Non-Null Count  Dtype \n",
      "---  ------      --------------  ----- \n",
      " 0   date        47980 non-null  object\n",
      " 1   home_team   47980 non-null  object\n",
      " 2   away_team   47980 non-null  object\n",
      " 3   home_score  47980 non-null  int64 \n",
      " 4   away_score  47980 non-null  int64 \n",
      " 5   tournament  47980 non-null  object\n",
      " 6   city        47980 non-null  object\n",
      " 7   country     47980 non-null  object\n",
      " 8   neutral     47980 non-null  bool  \n",
      "dtypes: bool(1), int64(2), object(6)\n",
      "memory usage: 3.0+ MB\n"
     ]
    }
   ],
   "source": [
    "dataframes[\"results\"].info()"
   ]
  },
  {
   "cell_type": "markdown",
   "metadata": {},
   "source": [
    "We convert the date column so that it is not a string but a datetime format, making searches easier. (We take this opportunity to apply it to all CSV files.)"
   ]
  },
  {
   "cell_type": "code",
   "execution_count": 7,
   "metadata": {},
   "outputs": [],
   "source": [
    "dataframes[\"results\"][\"date\"] = pd.to_datetime(dataframes[\"results\"][\"date\"])\n",
    "dataframes['goalscorers']['date'] = pd.to_datetime(dataframes['goalscorers']['date'])\n",
    "dataframes['shootouts']['date'] = pd.to_datetime(dataframes['shootouts']['date'])"
   ]
  },
  {
   "cell_type": "code",
   "execution_count": 11,
   "metadata": {},
   "outputs": [
    {
     "name": "stdout",
     "output_type": "stream",
     "text": [
      "<class 'pandas.core.frame.DataFrame'>\n",
      "RangeIndex: 47980 entries, 0 to 47979\n",
      "Data columns (total 9 columns):\n",
      " #   Column      Non-Null Count  Dtype         \n",
      "---  ------      --------------  -----         \n",
      " 0   date        47980 non-null  datetime64[ns]\n",
      " 1   home_team   47980 non-null  object        \n",
      " 2   away_team   47980 non-null  object        \n",
      " 3   home_score  47980 non-null  int64         \n",
      " 4   away_score  47980 non-null  int64         \n",
      " 5   tournament  47980 non-null  object        \n",
      " 6   city        47980 non-null  object        \n",
      " 7   country     47980 non-null  object        \n",
      " 8   neutral     47980 non-null  bool          \n",
      "dtypes: bool(1), datetime64[ns](1), int64(2), object(5)\n",
      "memory usage: 3.0+ MB\n"
     ]
    }
   ],
   "source": [
    "dataframes['results'].info()"
   ]
  },
  {
   "cell_type": "markdown",
   "metadata": {},
   "source": [
    "#### Shootouts.csv"
   ]
  },
  {
   "cell_type": "code",
   "execution_count": 8,
   "metadata": {},
   "outputs": [
    {
     "name": "stdout",
     "output_type": "stream",
     "text": [
      "<class 'pandas.core.frame.DataFrame'>\n",
      "RangeIndex: 645 entries, 0 to 644\n",
      "Data columns (total 5 columns):\n",
      " #   Column         Non-Null Count  Dtype         \n",
      "---  ------         --------------  -----         \n",
      " 0   date           645 non-null    datetime64[ns]\n",
      " 1   home_team      645 non-null    object        \n",
      " 2   away_team      645 non-null    object        \n",
      " 3   winner         645 non-null    object        \n",
      " 4   first_shooter  230 non-null    object        \n",
      "dtypes: datetime64[ns](1), object(4)\n",
      "memory usage: 25.3+ KB\n"
     ]
    }
   ],
   "source": [
    "dataframes['shootouts'].info()"
   ]
  },
  {
   "cell_type": "code",
   "execution_count": 9,
   "metadata": {},
   "outputs": [
    {
     "data": {
      "text/plain": [
       "date               0\n",
       "home_team          0\n",
       "away_team          0\n",
       "winner             0\n",
       "first_shooter    415\n",
       "dtype: int64"
      ]
     },
     "execution_count": 9,
     "metadata": {},
     "output_type": "execute_result"
    }
   ],
   "source": [
    "dataframes['shootouts'].isnull().sum()"
   ]
  },
  {
   "cell_type": "markdown",
   "metadata": {},
   "source": [
    "We keep the first_shooter column despite the high presence of null values, as I believe it can provide relevant insights for the analysis of penalty shootouts. I think studying the influence of shooting order on the probability of victory could reveal interesting patterns, such as a potential advantage for the team that shoots first. Additionally, this data will allow me to analyze in which time periods or competitions there are more null values, which could offer clues about the evolution of data recording in tournaments."
   ]
  },
  {
   "cell_type": "markdown",
   "metadata": {},
   "source": [
    "#### Goalscorers.csv"
   ]
  },
  {
   "cell_type": "code",
   "execution_count": 10,
   "metadata": {},
   "outputs": [
    {
     "name": "stdout",
     "output_type": "stream",
     "text": [
      "<class 'pandas.core.frame.DataFrame'>\n",
      "RangeIndex: 44362 entries, 0 to 44361\n",
      "Data columns (total 8 columns):\n",
      " #   Column     Non-Null Count  Dtype         \n",
      "---  ------     --------------  -----         \n",
      " 0   date       44362 non-null  datetime64[ns]\n",
      " 1   home_team  44362 non-null  object        \n",
      " 2   away_team  44362 non-null  object        \n",
      " 3   team       44362 non-null  object        \n",
      " 4   scorer     44313 non-null  object        \n",
      " 5   minute     44103 non-null  float64       \n",
      " 6   own_goal   44362 non-null  bool          \n",
      " 7   penalty    44362 non-null  bool          \n",
      "dtypes: bool(2), datetime64[ns](1), float64(1), object(4)\n",
      "memory usage: 2.1+ MB\n"
     ]
    }
   ],
   "source": [
    "dataframes['goalscorers'].info()"
   ]
  },
  {
   "cell_type": "code",
   "execution_count": 11,
   "metadata": {},
   "outputs": [
    {
     "data": {
      "text/plain": [
       "date           0\n",
       "home_team      0\n",
       "away_team      0\n",
       "team           0\n",
       "scorer        49\n",
       "minute       259\n",
       "own_goal       0\n",
       "penalty        0\n",
       "dtype: int64"
      ]
     },
     "execution_count": 11,
     "metadata": {},
     "output_type": "execute_result"
    }
   ],
   "source": [
    "dataframes['goalscorers'].isnull().sum()"
   ]
  },
  {
   "cell_type": "markdown",
   "metadata": {},
   "source": [
    "We get rid of nulls as they are difficult to fill and not many compared to the number of rows we have."
   ]
  },
  {
   "cell_type": "code",
   "execution_count": 12,
   "metadata": {},
   "outputs": [
    {
     "name": "stdout",
     "output_type": "stream",
     "text": [
      "date         0\n",
      "home_team    0\n",
      "away_team    0\n",
      "team         0\n",
      "scorer       0\n",
      "minute       0\n",
      "own_goal     0\n",
      "penalty      0\n",
      "dtype: int64\n",
      "Rows remaining: 44102\n"
     ]
    }
   ],
   "source": [
    "dataframes['goalscorers'] = dataframes['goalscorers'].dropna(subset=['scorer', 'minute'])\n",
    "\n",
    "# Verificar que los valores nulos fueron eliminados\n",
    "print(dataframes['goalscorers'].isnull().sum())\n",
    "print(f\"Rows remaining: {len(dataframes['goalscorers'])}\")"
   ]
  },
  {
   "cell_type": "code",
   "execution_count": 13,
   "metadata": {},
   "outputs": [],
   "source": [
    "# Directorio donde quieres guardar los archivos limpios\n",
    "save_directory = \"../csvs/\"\n",
    "\n",
    "# Lista de dataframes que queremos guardar\n",
    "clean_dataframes = {\n",
    "    'results': 'results_clean.csv',\n",
    "    'shootouts': 'shootouts_clean.csv',\n",
    "    'goalscorers': 'goalscorers_clean.csv'\n",
    "}\n",
    "\n",
    "# Guardar cada dataframe limpio como CSV en el directorio correcto\n",
    "for key, filename in clean_dataframes.items():\n",
    "    if key in dataframes:  # Verificar que el dataframe existe en el diccionario\n",
    "        filepath = os.path.join(save_directory, filename)\n",
    "        dataframes[key].to_csv(filepath, index=False)"
   ]
  }
 ],
 "metadata": {
  "kernelspec": {
   "display_name": "Python 3 (ipykernel)",
   "language": "python",
   "name": "python3"
  },
  "language_info": {
   "codemirror_mode": {
    "name": "ipython",
    "version": 3
   },
   "file_extension": ".py",
   "mimetype": "text/x-python",
   "name": "python",
   "nbconvert_exporter": "python",
   "pygments_lexer": "ipython3",
   "version": "3.11.6"
  }
 },
 "nbformat": 4,
 "nbformat_minor": 4
}
